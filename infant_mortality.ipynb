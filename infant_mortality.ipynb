{
 "cells": [
  {
   "cell_type": "code",
   "execution_count": 1,
   "metadata": {},
   "outputs": [],
   "source": [
    "# H0 - Vaccines don't reduce the amount of infant deaths\n",
    "# H1 - Vaccines reduce the amount of infant deaths"
   ]
  },
  {
   "cell_type": "code",
   "execution_count": 108,
   "metadata": {},
   "outputs": [],
   "source": [
    "import pandas as pd\n",
    "import seaborn as sns\n",
    "import matplotlib.pyplot as plt\n",
    "import numpy as np\n",
    "import scipy.stats as stats\n",
    "import math\n",
    "import statsmodels.api as sm\n",
    "from statsmodels.formula.api import ols\n",
    "from sklearn.linear_model import LinearRegression\n",
    "from sklearn.model_selection import train_test_split\n",
    "from sklearn import metrics"
   ]
  },
  {
   "cell_type": "code",
   "execution_count": 160,
   "metadata": {},
   "outputs": [
    {
     "ename": "AttributeError",
     "evalue": "Cannot access attribute 'shape' of 'DataFrameGroupBy' objects, try using the 'apply' method",
     "output_type": "error",
     "traceback": [
      "\u001b[1;31m---------------------------------------------------------------------------\u001b[0m",
      "\u001b[1;31mAttributeError\u001b[0m                            Traceback (most recent call last)",
      "\u001b[1;32m<ipython-input-160-c7d956453d3f>\u001b[0m in \u001b[0;36m<module>\u001b[1;34m\u001b[0m\n\u001b[0;32m      9\u001b[0m \u001b[1;31m#                                                            'gdp': 'mean', 'thinness_till19': 'mean',\u001b[0m\u001b[1;33m\u001b[0m\u001b[1;33m\u001b[0m\u001b[1;33m\u001b[0m\u001b[0m\n\u001b[0;32m     10\u001b[0m \u001b[1;31m#                                                            })\u001b[0m\u001b[1;33m\u001b[0m\u001b[1;33m\u001b[0m\u001b[1;33m\u001b[0m\u001b[0m\n\u001b[1;32m---> 11\u001b[1;33m \u001b[0mgrouped_df\u001b[0m\u001b[1;33m.\u001b[0m\u001b[0mshape\u001b[0m\u001b[1;33m\u001b[0m\u001b[1;33m\u001b[0m\u001b[0m\n\u001b[0m\u001b[0;32m     12\u001b[0m \u001b[0mcolumns\u001b[0m \u001b[1;33m=\u001b[0m \u001b[0mgrouped_df\u001b[0m\u001b[1;33m.\u001b[0m\u001b[0mcolumns\u001b[0m\u001b[1;33m\u001b[0m\u001b[1;33m\u001b[0m\u001b[0m\n",
      "\u001b[1;32mc:\\users\\gilor\\appdata\\local\\programs\\python\\python37-32\\lib\\site-packages\\pandas\\core\\groupby\\groupby.py\u001b[0m in \u001b[0;36m__getattr__\u001b[1;34m(self, attr)\u001b[0m\n\u001b[0;32m    531\u001b[0m             \u001b[1;32mreturn\u001b[0m \u001b[0mself\u001b[0m\u001b[1;33m[\u001b[0m\u001b[0mattr\u001b[0m\u001b[1;33m]\u001b[0m\u001b[1;33m\u001b[0m\u001b[1;33m\u001b[0m\u001b[0m\n\u001b[0;32m    532\u001b[0m         \u001b[1;32mif\u001b[0m \u001b[0mhasattr\u001b[0m\u001b[1;33m(\u001b[0m\u001b[0mself\u001b[0m\u001b[1;33m.\u001b[0m\u001b[0mobj\u001b[0m\u001b[1;33m,\u001b[0m \u001b[0mattr\u001b[0m\u001b[1;33m)\u001b[0m\u001b[1;33m:\u001b[0m\u001b[1;33m\u001b[0m\u001b[1;33m\u001b[0m\u001b[0m\n\u001b[1;32m--> 533\u001b[1;33m             \u001b[1;32mreturn\u001b[0m \u001b[0mself\u001b[0m\u001b[1;33m.\u001b[0m\u001b[0m_make_wrapper\u001b[0m\u001b[1;33m(\u001b[0m\u001b[0mattr\u001b[0m\u001b[1;33m)\u001b[0m\u001b[1;33m\u001b[0m\u001b[1;33m\u001b[0m\u001b[0m\n\u001b[0m\u001b[0;32m    534\u001b[0m \u001b[1;33m\u001b[0m\u001b[0m\n\u001b[0;32m    535\u001b[0m         raise AttributeError(\"%r object has no attribute %r\" %\n",
      "\u001b[1;32mc:\\users\\gilor\\appdata\\local\\programs\\python\\python37-32\\lib\\site-packages\\pandas\\core\\groupby\\groupby.py\u001b[0m in \u001b[0;36m_make_wrapper\u001b[1;34m(self, name)\u001b[0m\n\u001b[0;32m    568\u001b[0m                    \"using the 'apply' method\".format(kind, name,\n\u001b[0;32m    569\u001b[0m                                                      type(self).__name__))\n\u001b[1;32m--> 570\u001b[1;33m             \u001b[1;32mraise\u001b[0m \u001b[0mAttributeError\u001b[0m\u001b[1;33m(\u001b[0m\u001b[0mmsg\u001b[0m\u001b[1;33m)\u001b[0m\u001b[1;33m\u001b[0m\u001b[1;33m\u001b[0m\u001b[0m\n\u001b[0m\u001b[0;32m    571\u001b[0m \u001b[1;33m\u001b[0m\u001b[0m\n\u001b[0;32m    572\u001b[0m         \u001b[0mself\u001b[0m\u001b[1;33m.\u001b[0m\u001b[0m_set_group_selection\u001b[0m\u001b[1;33m(\u001b[0m\u001b[1;33m)\u001b[0m\u001b[1;33m\u001b[0m\u001b[1;33m\u001b[0m\u001b[0m\n",
      "\u001b[1;31mAttributeError\u001b[0m: Cannot access attribute 'shape' of 'DataFrameGroupBy' objects, try using the 'apply' method"
     ]
    }
   ],
   "source": [
    "df = pd.read_csv('refined_life_expect.csv')\n",
    "df.dropna(inplace=True)\n",
    "grouped_df = df.groupby(['country']).agg({'life_expectancy': 'mean', 'alcohol': 'mean',\n",
    "                                                           'hepatitisB': 'mean', 'bmi': 'mean',\n",
    "                                                           'measles': 'mean', 'polio': 'mean',\n",
    "                                                           'polio': 'mean', 'diphtheria': 'mean',\n",
    "                                                           'hiv': 'mean', 'total_expenditure': 'mean',\n",
    "                                                           'gdp': 'mean', 'thinness_till19': 'mean',\n",
    "                                                           })\n",
    "grouped_df.shape\n",
    "columns = grouped_df"
   ]
  },
  {
   "cell_type": "code",
   "execution_count": 162,
   "metadata": {},
   "outputs": [
    {
     "data": {
      "text/html": [
       "<div>\n",
       "<style scoped>\n",
       "    .dataframe tbody tr th:only-of-type {\n",
       "        vertical-align: middle;\n",
       "    }\n",
       "\n",
       "    .dataframe tbody tr th {\n",
       "        vertical-align: top;\n",
       "    }\n",
       "\n",
       "    .dataframe thead th {\n",
       "        text-align: right;\n",
       "    }\n",
       "</style>\n",
       "<table border=\"1\" class=\"dataframe\">\n",
       "  <thead>\n",
       "    <tr style=\"text-align: right;\">\n",
       "      <th></th>\n",
       "      <th>Unnamed: 0</th>\n",
       "      <th>country</th>\n",
       "      <th>life_expectancy</th>\n",
       "      <th>alcohol</th>\n",
       "      <th>hepatitisB</th>\n",
       "      <th>measles</th>\n",
       "      <th>bmi</th>\n",
       "      <th>polio</th>\n",
       "      <th>diphtheria</th>\n",
       "      <th>hiv</th>\n",
       "      <th>total_expenditure</th>\n",
       "      <th>gdp</th>\n",
       "      <th>thinness_till19</th>\n",
       "      <th>status</th>\n",
       "      <th>inf_death</th>\n",
       "      <th>population</th>\n",
       "      <th>death_ratio</th>\n",
       "    </tr>\n",
       "  </thead>\n",
       "  <tbody>\n",
       "  </tbody>\n",
       "</table>\n",
       "</div>"
      ],
      "text/plain": [
       "Empty DataFrame\n",
       "Columns: [Unnamed: 0, country, life_expectancy, alcohol, hepatitisB, measles, bmi, polio, diphtheria, hiv, total_expenditure, gdp, thinness_till19, status, inf_death, population, death_ratio]\n",
       "Index: []"
      ]
     },
     "execution_count": 162,
     "metadata": {},
     "output_type": "execute_result"
    }
   ],
   "source": [
    "quantile_vals = df.quantile(0.95)\n",
    "\n",
    "for ind in range(len(quantile_vals)):\n",
    "    try:\n",
    "        clean_df = df[df[columns[ind]] > quantile_vals[ind]]\n",
    "    except:\n",
    "        contine\n",
    "        \n",
    "\n",
    "clean_df"
   ]
  },
  {
   "cell_type": "code",
   "execution_count": 145,
   "metadata": {},
   "outputs": [
    {
     "data": {
      "text/html": [
       "<table class=\"simpletable\">\n",
       "<caption>OLS Regression Results</caption>\n",
       "<tr>\n",
       "  <th>Dep. Variable:</th>     <td>life_expectancy</td> <th>  R-squared:         </th> <td>   0.823</td>\n",
       "</tr>\n",
       "<tr>\n",
       "  <th>Model:</th>                   <td>OLS</td>       <th>  Adj. R-squared:    </th> <td>   0.810</td>\n",
       "</tr>\n",
       "<tr>\n",
       "  <th>Method:</th>             <td>Least Squares</td>  <th>  F-statistic:       </th> <td>   63.34</td>\n",
       "</tr>\n",
       "<tr>\n",
       "  <th>Date:</th>             <td>Wed, 21 Aug 2019</td> <th>  Prob (F-statistic):</th> <td>6.01e-42</td>\n",
       "</tr>\n",
       "<tr>\n",
       "  <th>Time:</th>                 <td>11:44:36</td>     <th>  Log-Likelihood:    </th> <td> -363.29</td>\n",
       "</tr>\n",
       "<tr>\n",
       "  <th>No. Observations:</th>      <td>   133</td>      <th>  AIC:               </th> <td>   746.6</td>\n",
       "</tr>\n",
       "<tr>\n",
       "  <th>Df Residuals:</th>          <td>   123</td>      <th>  BIC:               </th> <td>   775.5</td>\n",
       "</tr>\n",
       "<tr>\n",
       "  <th>Df Model:</th>              <td>     9</td>      <th>                     </th>     <td> </td>   \n",
       "</tr>\n",
       "<tr>\n",
       "  <th>Covariance Type:</th>      <td>nonrobust</td>    <th>                     </th>     <td> </td>   \n",
       "</tr>\n",
       "</table>\n",
       "<table class=\"simpletable\">\n",
       "<tr>\n",
       "         <td></td>            <th>coef</th>     <th>std err</th>      <th>t</th>      <th>P>|t|</th>  <th>[0.025</th>    <th>0.975]</th>  \n",
       "</tr>\n",
       "<tr>\n",
       "  <th>Intercept</th>       <td>   47.0105</td> <td>    2.499</td> <td>   18.812</td> <td> 0.000</td> <td>   42.064</td> <td>   51.957</td>\n",
       "</tr>\n",
       "<tr>\n",
       "  <th>alcohol</th>         <td>   -0.0787</td> <td>    0.128</td> <td>   -0.614</td> <td> 0.540</td> <td>   -0.332</td> <td>    0.175</td>\n",
       "</tr>\n",
       "<tr>\n",
       "  <th>hiv</th>             <td>   -0.6650</td> <td>    0.072</td> <td>   -9.291</td> <td> 0.000</td> <td>   -0.807</td> <td>   -0.523</td>\n",
       "</tr>\n",
       "<tr>\n",
       "  <th>bmi</th>             <td>    0.2631</td> <td>    0.036</td> <td>    7.354</td> <td> 0.000</td> <td>    0.192</td> <td>    0.334</td>\n",
       "</tr>\n",
       "<tr>\n",
       "  <th>polio</th>           <td>    0.0241</td> <td>    0.058</td> <td>    0.418</td> <td> 0.677</td> <td>   -0.090</td> <td>    0.139</td>\n",
       "</tr>\n",
       "<tr>\n",
       "  <th>measles</th>         <td> 6.786e-05</td> <td> 4.95e-05</td> <td>    1.371</td> <td> 0.173</td> <td>-3.01e-05</td> <td>    0.000</td>\n",
       "</tr>\n",
       "<tr>\n",
       "  <th>thinness_till19</th> <td>    0.1319</td> <td>    0.120</td> <td>    1.095</td> <td> 0.276</td> <td>   -0.106</td> <td>    0.370</td>\n",
       "</tr>\n",
       "<tr>\n",
       "  <th>hepatitisB</th>      <td>   -0.0458</td> <td>    0.034</td> <td>   -1.342</td> <td> 0.182</td> <td>   -0.113</td> <td>    0.022</td>\n",
       "</tr>\n",
       "<tr>\n",
       "  <th>diphtheria</th>      <td>    0.1563</td> <td>    0.058</td> <td>    2.679</td> <td> 0.008</td> <td>    0.041</td> <td>    0.272</td>\n",
       "</tr>\n",
       "<tr>\n",
       "  <th>gdp</th>             <td>    0.0003</td> <td> 5.29e-05</td> <td>    4.906</td> <td> 0.000</td> <td>    0.000</td> <td>    0.000</td>\n",
       "</tr>\n",
       "</table>\n",
       "<table class=\"simpletable\">\n",
       "<tr>\n",
       "  <th>Omnibus:</th>       <td>15.049</td> <th>  Durbin-Watson:     </th> <td>   2.247</td>\n",
       "</tr>\n",
       "<tr>\n",
       "  <th>Prob(Omnibus):</th> <td> 0.001</td> <th>  Jarque-Bera (JB):  </th> <td>  17.928</td>\n",
       "</tr>\n",
       "<tr>\n",
       "  <th>Skew:</th>          <td>-0.700</td> <th>  Prob(JB):          </th> <td>0.000128</td>\n",
       "</tr>\n",
       "<tr>\n",
       "  <th>Kurtosis:</th>      <td> 4.129</td> <th>  Cond. No.          </th> <td>7.93e+04</td>\n",
       "</tr>\n",
       "</table><br/><br/>Warnings:<br/>[1] Standard Errors assume that the covariance matrix of the errors is correctly specified.<br/>[2] The condition number is large, 7.93e+04. This might indicate that there are<br/>strong multicollinearity or other numerical problems."
      ],
      "text/plain": [
       "<class 'statsmodels.iolib.summary.Summary'>\n",
       "\"\"\"\n",
       "                            OLS Regression Results                            \n",
       "==============================================================================\n",
       "Dep. Variable:        life_expectancy   R-squared:                       0.823\n",
       "Model:                            OLS   Adj. R-squared:                  0.810\n",
       "Method:                 Least Squares   F-statistic:                     63.34\n",
       "Date:                Wed, 21 Aug 2019   Prob (F-statistic):           6.01e-42\n",
       "Time:                        11:44:36   Log-Likelihood:                -363.29\n",
       "No. Observations:                 133   AIC:                             746.6\n",
       "Df Residuals:                     123   BIC:                             775.5\n",
       "Df Model:                           9                                         \n",
       "Covariance Type:            nonrobust                                         \n",
       "===================================================================================\n",
       "                      coef    std err          t      P>|t|      [0.025      0.975]\n",
       "-----------------------------------------------------------------------------------\n",
       "Intercept          47.0105      2.499     18.812      0.000      42.064      51.957\n",
       "alcohol            -0.0787      0.128     -0.614      0.540      -0.332       0.175\n",
       "hiv                -0.6650      0.072     -9.291      0.000      -0.807      -0.523\n",
       "bmi                 0.2631      0.036      7.354      0.000       0.192       0.334\n",
       "polio               0.0241      0.058      0.418      0.677      -0.090       0.139\n",
       "measles          6.786e-05   4.95e-05      1.371      0.173   -3.01e-05       0.000\n",
       "thinness_till19     0.1319      0.120      1.095      0.276      -0.106       0.370\n",
       "hepatitisB         -0.0458      0.034     -1.342      0.182      -0.113       0.022\n",
       "diphtheria          0.1563      0.058      2.679      0.008       0.041       0.272\n",
       "gdp                 0.0003   5.29e-05      4.906      0.000       0.000       0.000\n",
       "==============================================================================\n",
       "Omnibus:                       15.049   Durbin-Watson:                   2.247\n",
       "Prob(Omnibus):                  0.001   Jarque-Bera (JB):               17.928\n",
       "Skew:                          -0.700   Prob(JB):                     0.000128\n",
       "Kurtosis:                       4.129   Cond. No.                     7.93e+04\n",
       "==============================================================================\n",
       "\n",
       "Warnings:\n",
       "[1] Standard Errors assume that the covariance matrix of the errors is correctly specified.\n",
       "[2] The condition number is large, 7.93e+04. This might indicate that there are\n",
       "strong multicollinearity or other numerical problems.\n",
       "\"\"\""
      ]
     },
     "execution_count": 145,
     "metadata": {},
     "output_type": "execute_result"
    }
   ],
   "source": [
    "id_lr_model = ols(formula='life_expectancy~alcohol+hiv+bmi+polio+measles+thinness_till19+hepatitisB+diphtheria+gdp', data=grouped_df).fit()\n",
    "id_lr_model.summary()"
   ]
  },
  {
   "cell_type": "code",
   "execution_count": 111,
   "metadata": {},
   "outputs": [
    {
     "data": {
      "text/plain": [
       "LinearRegression(copy_X=True, fit_intercept=True, n_jobs=None, normalize=False)"
      ]
     },
     "execution_count": 111,
     "metadata": {},
     "output_type": "execute_result"
    }
   ],
   "source": [
    "X = grouped_df[['hiv', 'bmi','gdp','diphtheria']].values\n",
    "y = grouped_df.life_expectancy.values.reshape(-1,1)\n",
    "x_train, x_test, y_train, y_test = train_test_split(X, y, test_size=0.2, random_state=0)\n",
    "model = LinearRegression()\n",
    "model.fit(x_train, y_train)\n"
   ]
  },
  {
   "cell_type": "code",
   "execution_count": 112,
   "metadata": {},
   "outputs": [
    {
     "name": "stdout",
     "output_type": "stream",
     "text": [
      "[48.29076811]\n",
      "[[-6.72614237e-01  2.30666911e-01  2.42866051e-04  1.43214889e-01]]\n"
     ]
    }
   ],
   "source": [
    "print(model.intercept_)\n",
    "print(model.coef_)"
   ]
  },
  {
   "cell_type": "code",
   "execution_count": 113,
   "metadata": {},
   "outputs": [
    {
     "data": {
      "text/plain": [
       "<matplotlib.axes._subplots.AxesSubplot at 0x25afb1b0>"
      ]
     },
     "execution_count": 113,
     "metadata": {},
     "output_type": "execute_result"
    },
    {
     "data": {
      "image/png": "[encoded data removed]",
      "text/plain": [
       "<Figure size 720x576 with 1 Axes>"
      ]
     },
     "metadata": {
      "needs_background": "light"
     },
     "output_type": "display_data"
    }
   ],
   "source": [
    "y_predict = model.predict(x_test)\n",
    "new_df = pd.DataFrame({'actual': y_test.flatten(), 'predicted': y_predict.flatten()})\n",
    "new_df\n",
    "plot_df = new_df.head(20)\n",
    "plot_df.plot(kind='bar', figsize=(10,8))"
   ]
  },
  {
   "cell_type": "code",
   "execution_count": 114,
   "metadata": {},
   "outputs": [
    {
     "name": "stdout",
     "output_type": "stream",
     "text": [
      "mean absolete error: 2.594139915811462\n",
      "mean squared error: 10.374097755060363\n",
      "root squared error: 3.22088462305938\n"
     ]
    }
   ],
   "source": [
    "print('mean absolete error:', metrics.mean_absolute_error(y_test, y_predict))\n",
    "print('mean squared error:', metrics.mean_squared_error(y_test, y_predict))\n",
    "print('root squared error:', np.sqrt(metrics.mean_squared_error(y_test, y_predict)))"
   ]
  },
  {
   "cell_type": "code",
   "execution_count": null,
   "metadata": {},
   "outputs": [],
   "source": []
  },
  {
   "cell_type": "code",
   "execution_count": null,
   "metadata": {},
   "outputs": [],
   "source": []
  }
 ],
 "metadata": {
  "kernelspec": {
   "display_name": "Python 3",
   "language": "python",
   "name": "python3"
  },
  "language_info": {
   "codemirror_mode": {
    "name": "ipython",
    "version": 3
   },
   "file_extension": ".py",
   "mimetype": "text/x-python",
   "name": "python",
   "nbconvert_exporter": "python",
   "pygments_lexer": "ipython3",
   "version": "3.7.2"
  }
 },
 "nbformat": 4,
 "nbformat_minor": 2
}
