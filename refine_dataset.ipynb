{
 "cells": [
  {
   "cell_type": "code",
   "execution_count": 1,
   "metadata": {},
   "outputs": [],
   "source": [
    "import pandas as pd"
   ]
  },
  {
   "cell_type": "code",
   "execution_count": 17,
   "metadata": {},
   "outputs": [
    {
     "data": {
      "text/plain": [
       "Index(['Country', 'Year', 'Status', 'Life expectancy ', 'Adult Mortality',\n",
       "       'infant deaths', 'Alcohol', 'percentage expenditure', 'Hepatitis B',\n",
       "       'Measles ', ' BMI ', 'under-five deaths ', 'Polio', 'Total expenditure',\n",
       "       'Diphtheria ', ' HIV/AIDS', 'GDP', 'Population',\n",
       "       ' thinness  1-19 years', ' thinness 5-9 years',\n",
       "       'Income composition of resources', 'Schooling'],\n",
       "      dtype='object')"
      ]
     },
     "execution_count": 17,
     "metadata": {},
     "output_type": "execute_result"
    }
   ],
   "source": [
    "life_df = pd.read_csv('Life_Expectancy_Data.csv')\n",
    "life_df.columns"
   ]
  },
  {
   "cell_type": "code",
   "execution_count": 27,
   "metadata": {},
   "outputs": [],
   "source": [
    "#Create a new dataset to work with\n",
    "new_df = pd.DataFrame({'country': life_df['Country'],\n",
    "                        'life_expectancy': life_df['Life expectancy '],\n",
    "                        'alcohol': life_df['Alcohol'],\n",
    "                        'hepatitisB': life_df['Hepatitis B'],\n",
    "                        'measles': life_df['Measles '],\n",
    "                        'bmi': life_df[' BMI '],\n",
    "                        'polio': life_df['Polio'],\n",
    "                        'diphtheria': life_df['Diphtheria '],\n",
    "                        'hiv': life_df[' HIV/AIDS'],\n",
    "                        'total_expenditure': life_df['Total expenditure'],\n",
    "                        'gdp': life_df['GDP'],\n",
    "                        'total_expenditure': life_df['Total expenditure'],\n",
    "                        'thinness_till19': life_df[' thinness  1-19 years'],\n",
    "                        'status': life_df['Status']\n",
    "                        })\n",
    "grouped_df = new_df.groupby(['country']).mean()\n",
    "refined_life_expect = grouped_df.to_csv(r'C:\\Users\\GILOR\\Desktop\\data_science\\Flatiron_projects\\Life_Expectancy_Project\\refined_life_expect.csv')"
   ]
  },
  {
   "cell_type": "code",
   "execution_count": 28,
   "metadata": {},
   "outputs": [
    {
     "data": {
      "text/plain": [
       "Index(['life_expectancy', 'alcohol', 'hepatitisB', 'measles', 'bmi', 'polio',\n",
       "       'diphtheria', 'hiv', 'total_expenditure', 'gdp', 'thinness_till19'],\n",
       "      dtype='object')"
      ]
     },
     "execution_count": 28,
     "metadata": {},
     "output_type": "execute_result"
    }
   ],
   "source": [
    "refined_life_expect.columns"
   ]
  },
  {
   "cell_type": "code",
   "execution_count": null,
   "metadata": {},
   "outputs": [],
   "source": []
  },
  {
   "cell_type": "code",
   "execution_count": 26,
   "metadata": {},
   "outputs": [],
   "source": [
    "refined_life_expect = grouped_df.to_csv(r'C:\\Users\\GILOR\\Desktop\\data_science\\Flatiron_projects\\Life_Expectancy_Project\\refined_life_expect.csv')"
   ]
  },
  {
   "cell_type": "code",
   "execution_count": null,
   "metadata": {},
   "outputs": [],
   "source": []
  }
 ],
 "metadata": {
  "kernelspec": {
   "display_name": "Python 3",
   "language": "python",
   "name": "python3"
  },
  "language_info": {
   "codemirror_mode": {
    "name": "ipython",
    "version": 3
   },
   "file_extension": ".py",
   "mimetype": "text/x-python",
   "name": "python",
   "nbconvert_exporter": "python",
   "pygments_lexer": "ipython3",
   "version": "3.7.2"
  }
 },
 "nbformat": 4,
 "nbformat_minor": 2
}
