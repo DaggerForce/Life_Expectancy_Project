{
 "cells": [
  {
   "cell_type": "code",
   "execution_count": 53,
   "metadata": {},
   "outputs": [],
   "source": [
    "import pandas as pd"
   ]
  },
  {
   "cell_type": "code",
   "execution_count": 54,
   "metadata": {},
   "outputs": [
    {
     "data": {
      "text/plain": [
       "Index(['Country', 'Year', 'Status', 'Life expectancy ', 'Adult Mortality',\n",
       "       'infant deaths', 'Alcohol', 'percentage expenditure', 'Hepatitis B',\n",
       "       'Measles ', ' BMI ', 'under-five deaths ', 'Polio', 'Total expenditure',\n",
       "       'Diphtheria ', ' HIV/AIDS', 'GDP', 'Population',\n",
       "       ' thinness  1-19 years', ' thinness 5-9 years',\n",
       "       'Income composition of resources', 'Schooling'],\n",
       "      dtype='object')"
      ]
     },
     "execution_count": 54,
     "metadata": {},
     "output_type": "execute_result"
    }
   ],
   "source": [
    "life_df = pd.read_csv('Life_Expectancy_data.csv')\n",
    "life_df.columns\n",
    "# life_df.head(400)"
   ]
  },
  {
   "cell_type": "code",
   "execution_count": 55,
   "metadata": {},
   "outputs": [
    {
     "data": {
      "text/plain": [
       "0        4.241935\n",
       "1        4.234375\n",
       "2        4.060606\n",
       "3        3.942029\n",
       "4        3.873239\n",
       "5        3.770270\n",
       "6        3.649351\n",
       "7        3.587500\n",
       "8        3.597561\n",
       "9        3.511905\n",
       "10       3.423529\n",
       "11       3.367816\n",
       "12       3.390805\n",
       "13       0.034091\n",
       "14       3.590909\n",
       "15       3.647727\n",
       "16            inf\n",
       "17            inf\n",
       "18            inf\n",
       "19            inf\n",
       "20            inf\n",
       "21      91.000000\n",
       "22      91.000000\n",
       "23       1.000000\n",
       "24       9.000000\n",
       "25      99.000000\n",
       "26      15.000000\n",
       "27      17.000000\n",
       "28      18.000000\n",
       "29      15.000000\n",
       "          ...    \n",
       "2908    11.310345\n",
       "2909    12.034483\n",
       "2910    12.620690\n",
       "2911    12.100000\n",
       "2912    12.266667\n",
       "2913     1.451613\n",
       "2914    15.218750\n",
       "2915    15.939394\n",
       "2916    16.294118\n",
       "2917    16.055556\n",
       "2918     1.641026\n",
       "2919     1.682927\n",
       "2920    14.209302\n",
       "2921    13.954545\n",
       "2922    15.272727\n",
       "2923    16.130435\n",
       "2924    15.960000\n",
       "2925    16.500000\n",
       "2926    16.571429\n",
       "2927    18.172414\n",
       "2928    19.566667\n",
       "2929    21.066667\n",
       "2930     2.310345\n",
       "2931     0.250000\n",
       "2932    25.607143\n",
       "2933    26.777778\n",
       "2934    27.500000\n",
       "2935     2.920000\n",
       "2936    27.440000\n",
       "2937    27.708333\n",
       "Name: death_ratio, Length: 2938, dtype: float64"
      ]
     },
     "execution_count": 55,
     "metadata": {},
     "output_type": "execute_result"
    }
   ],
   "source": [
    "life_df['death_ratio'] = life_df['Adult Mortality'] / life_df['infant deaths']\n",
    "life_df['death_ratio']"
   ]
  },
  {
   "cell_type": "code",
   "execution_count": 59,
   "metadata": {},
   "outputs": [],
   "source": [
    "#Create a new dataset to work with\n",
    "new_df = pd.DataFrame({'country': life_df['Country'],\n",
    "                        'life_expectancy': life_df['Life expectancy '],\n",
    "                        'alcohol': life_df['Alcohol'],\n",
    "                        'hepatitisB': life_df['Hepatitis B'],\n",
    "                        'measles': life_df['Measles '],\n",
    "                        'bmi': life_df[' BMI '],\n",
    "                        'polio': life_df['Polio'],\n",
    "                        'diphtheria': life_df['Diphtheria '],\n",
    "                        'hiv': life_df[' HIV/AIDS'],\n",
    "                        'total_expenditure': life_df['Total expenditure'],\n",
    "                        'gdp': life_df['GDP'],\n",
    "                        'total_expenditure': life_df['Total expenditure'],\n",
    "                        'thinness_till19': life_df[' thinness  1-19 years'],\n",
    "                        'status': life_df['Status'],\n",
    "                        'inf_death': life_df['infant deaths'],\n",
    "                        'population': life_df['Population'],\n",
    "                        'death_ratio': life_df['death_ratio']\n",
    "                        })\n",
    "refined_life_expect = new_df.to_csv(r'C:\\Users\\GILOR\\Desktop\\data_science\\Flatiron_projects\\Life_Expectancy_Project\\refined_life_expect.csv')"
   ]
  },
  {
   "cell_type": "code",
   "execution_count": null,
   "metadata": {},
   "outputs": [],
   "source": []
  }
 ],
 "metadata": {
  "kernelspec": {
   "display_name": "Python 3",
   "language": "python",
   "name": "python3"
  },
  "language_info": {
   "codemirror_mode": {
    "name": "ipython",
    "version": 3
   },
   "file_extension": ".py",
   "mimetype": "text/x-python",
   "name": "python",
   "nbconvert_exporter": "python",
   "pygments_lexer": "ipython3",
   "version": "3.7.2"
  }
 },
 "nbformat": 4,
 "nbformat_minor": 2
}
