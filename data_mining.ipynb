{
 "cells": [
  {
   "cell_type": "code",
   "execution_count": 1,
   "metadata": {},
   "outputs": [],
   "source": [
    "import pandas as pd\n",
    "import seaborn as sns\n",
    "import matplotlib.pyplot as plot\n",
    "import numpy as np\n",
    "import scipy.stats as stats\n",
    "import math\n",
    "import statsmodels.api as sm\n",
    "from statsmodels.formula.api import ols"
   ]
  },
  {
   "cell_type": "code",
   "execution_count": 24,
   "metadata": {},
   "outputs": [
    {
     "ename": "SyntaxError",
     "evalue": "invalid syntax (<ipython-input-24-0dbc8d43d03b>, line 4)",
     "output_type": "error",
     "traceback": [
      "\u001b[1;36m  File \u001b[1;32m\"<ipython-input-24-0dbc8d43d03b>\"\u001b[1;36m, line \u001b[1;32m4\u001b[0m\n\u001b[1;33m    df.loc[df[death_ratio] == 'inf', [death_ratio]] = Nan]]\u001b[0m\n\u001b[1;37m                                                         ^\u001b[0m\n\u001b[1;31mSyntaxError\u001b[0m\u001b[1;31m:\u001b[0m invalid syntax\n"
     ]
    }
   ],
   "source": [
    "df = pd.read_csv('refined_life_expect.csv')\n",
    "# print(df.head(20))\n",
    "df.dropna(inplace=True) #remove all the observations missing data\n",
    "df.loc[df[death_ratio] == 'inf', [death_ratio]] = Nan]]\n",
    "grouped_df = df.groupby(by='country').agg({'life_expectancy': 'mean', 'alcohol': 'mean',\n",
    "                                                           'hepatitisB': 'mean', 'bmi': 'mean',\n",
    "                                                           'measles': 'mean', 'polio': 'mean',\n",
    "                                                           'polio': 'mean', 'diphtheria': 'mean',\n",
    "                                                           'hiv': 'mean', 'total_expenditure': 'mean',\n",
    "                                                           'gdp': 'mean', 'thinness_till19': 'mean',\n",
    "                                                           })\n",
    "\n"
   ]
  },
  {
   "cell_type": "code",
   "execution_count": 3,
   "metadata": {},
   "outputs": [
    {
     "data": {
      "text/plain": [
       "(147, 11)"
      ]
     },
     "execution_count": 3,
     "metadata": {},
     "output_type": "execute_result"
    }
   ],
   "source": [
    "grouped_df.shape"
   ]
  },
  {
   "cell_type": "code",
   "execution_count": 4,
   "metadata": {},
   "outputs": [
    {
     "data": {
      "text/plain": [
       "(1853, 16)"
      ]
     },
     "execution_count": 4,
     "metadata": {},
     "output_type": "execute_result"
    }
   ],
   "source": [
    "df.shape"
   ]
  },
  {
   "cell_type": "code",
   "execution_count": null,
   "metadata": {},
   "outputs": [],
   "source": [
    "sns.pairplot(df, diag_kind=\"kde\", height=2.5)"
   ]
  },
  {
   "cell_type": "code",
   "execution_count": 22,
   "metadata": {},
   "outputs": [
    {
     "data": {
      "text/html": [
       "<table class=\"simpletable\">\n",
       "<caption>OLS Regression Results</caption>\n",
       "<tr>\n",
       "  <th>Dep. Variable:</th>     <td>life_expectancy</td> <th>  R-squared:         </th> <td>   0.481</td> \n",
       "</tr>\n",
       "<tr>\n",
       "  <th>Model:</th>                   <td>OLS</td>       <th>  Adj. R-squared:    </th> <td>   0.478</td> \n",
       "</tr>\n",
       "<tr>\n",
       "  <th>Method:</th>             <td>Least Squares</td>  <th>  F-statistic:       </th> <td>   168.5</td> \n",
       "</tr>\n",
       "<tr>\n",
       "  <th>Date:</th>             <td>Tue, 20 Aug 2019</td> <th>  Prob (F-statistic):</th> <td>7.12e-226</td>\n",
       "</tr>\n",
       "<tr>\n",
       "  <th>Time:</th>                 <td>21:10:24</td>     <th>  Log-Likelihood:    </th> <td> -5384.7</td> \n",
       "</tr>\n",
       "<tr>\n",
       "  <th>No. Observations:</th>      <td>  1649</td>      <th>  AIC:               </th> <td>1.079e+04</td>\n",
       "</tr>\n",
       "<tr>\n",
       "  <th>Df Residuals:</th>          <td>  1639</td>      <th>  BIC:               </th> <td>1.084e+04</td>\n",
       "</tr>\n",
       "<tr>\n",
       "  <th>Df Model:</th>              <td>     9</td>      <th>                     </th>     <td> </td>    \n",
       "</tr>\n",
       "<tr>\n",
       "  <th>Covariance Type:</th>      <td>nonrobust</td>    <th>                     </th>     <td> </td>    \n",
       "</tr>\n",
       "</table>\n",
       "<table class=\"simpletable\">\n",
       "<tr>\n",
       "            <td></td>              <th>coef</th>     <th>std err</th>      <th>t</th>      <th>P>|t|</th>  <th>[0.025</th>    <th>0.975]</th>  \n",
       "</tr>\n",
       "<tr>\n",
       "  <th>Intercept</th>            <td>   60.3120</td> <td>    1.104</td> <td>   54.617</td> <td> 0.000</td> <td>   58.146</td> <td>   62.478</td>\n",
       "</tr>\n",
       "<tr>\n",
       "  <th>status[T.Developing]</th> <td>   -4.1940</td> <td>    0.589</td> <td>   -7.122</td> <td> 0.000</td> <td>   -5.349</td> <td>   -3.039</td>\n",
       "</tr>\n",
       "<tr>\n",
       "  <th>alcohol</th>              <td>   -0.0542</td> <td>    0.053</td> <td>   -1.027</td> <td> 0.304</td> <td>   -0.158</td> <td>    0.049</td>\n",
       "</tr>\n",
       "<tr>\n",
       "  <th>hepatitisB</th>           <td>   -0.0078</td> <td>    0.008</td> <td>   -1.005</td> <td> 0.315</td> <td>   -0.023</td> <td>    0.007</td>\n",
       "</tr>\n",
       "<tr>\n",
       "  <th>bmi</th>                  <td>    0.1434</td> <td>    0.010</td> <td>   14.719</td> <td> 0.000</td> <td>    0.124</td> <td>    0.162</td>\n",
       "</tr>\n",
       "<tr>\n",
       "  <th>diphtheria</th>           <td>    0.0596</td> <td>    0.010</td> <td>    5.774</td> <td> 0.000</td> <td>    0.039</td> <td>    0.080</td>\n",
       "</tr>\n",
       "<tr>\n",
       "  <th>gdp</th>                  <td>    0.0002</td> <td> 1.62e-05</td> <td>    9.631</td> <td> 0.000</td> <td>    0.000</td> <td>    0.000</td>\n",
       "</tr>\n",
       "<tr>\n",
       "  <th>thinness_till19</th>      <td>   -0.3069</td> <td>    0.044</td> <td>   -6.912</td> <td> 0.000</td> <td>   -0.394</td> <td>   -0.220</td>\n",
       "</tr>\n",
       "<tr>\n",
       "  <th>polio</th>                <td>    0.0414</td> <td>    0.009</td> <td>    4.594</td> <td> 0.000</td> <td>    0.024</td> <td>    0.059</td>\n",
       "</tr>\n",
       "<tr>\n",
       "  <th>population</th>           <td> 8.263e-09</td> <td> 2.35e-09</td> <td>    3.509</td> <td> 0.000</td> <td> 3.64e-09</td> <td> 1.29e-08</td>\n",
       "</tr>\n",
       "</table>\n",
       "<table class=\"simpletable\">\n",
       "<tr>\n",
       "  <th>Omnibus:</th>       <td>96.302</td> <th>  Durbin-Watson:     </th> <td>   0.466</td>\n",
       "</tr>\n",
       "<tr>\n",
       "  <th>Prob(Omnibus):</th> <td> 0.000</td> <th>  Jarque-Bera (JB):  </th> <td> 122.640</td>\n",
       "</tr>\n",
       "<tr>\n",
       "  <th>Skew:</th>          <td>-0.550</td> <th>  Prob(JB):          </th> <td>2.34e-27</td>\n",
       "</tr>\n",
       "<tr>\n",
       "  <th>Kurtosis:</th>      <td> 3.759</td> <th>  Cond. No.          </th> <td>5.41e+08</td>\n",
       "</tr>\n",
       "</table><br/><br/>Warnings:<br/>[1] Standard Errors assume that the covariance matrix of the errors is correctly specified.<br/>[2] The condition number is large, 5.41e+08. This might indicate that there are<br/>strong multicollinearity or other numerical problems."
      ],
      "text/plain": [
       "<class 'statsmodels.iolib.summary.Summary'>\n",
       "\"\"\"\n",
       "                            OLS Regression Results                            \n",
       "==============================================================================\n",
       "Dep. Variable:        life_expectancy   R-squared:                       0.481\n",
       "Model:                            OLS   Adj. R-squared:                  0.478\n",
       "Method:                 Least Squares   F-statistic:                     168.5\n",
       "Date:                Tue, 20 Aug 2019   Prob (F-statistic):          7.12e-226\n",
       "Time:                        21:10:24   Log-Likelihood:                -5384.7\n",
       "No. Observations:                1649   AIC:                         1.079e+04\n",
       "Df Residuals:                    1639   BIC:                         1.084e+04\n",
       "Df Model:                           9                                         \n",
       "Covariance Type:            nonrobust                                         \n",
       "========================================================================================\n",
       "                           coef    std err          t      P>|t|      [0.025      0.975]\n",
       "----------------------------------------------------------------------------------------\n",
       "Intercept               60.3120      1.104     54.617      0.000      58.146      62.478\n",
       "status[T.Developing]    -4.1940      0.589     -7.122      0.000      -5.349      -3.039\n",
       "alcohol                 -0.0542      0.053     -1.027      0.304      -0.158       0.049\n",
       "hepatitisB              -0.0078      0.008     -1.005      0.315      -0.023       0.007\n",
       "bmi                      0.1434      0.010     14.719      0.000       0.124       0.162\n",
       "diphtheria               0.0596      0.010      5.774      0.000       0.039       0.080\n",
       "gdp                      0.0002   1.62e-05      9.631      0.000       0.000       0.000\n",
       "thinness_till19         -0.3069      0.044     -6.912      0.000      -0.394      -0.220\n",
       "polio                    0.0414      0.009      4.594      0.000       0.024       0.059\n",
       "population            8.263e-09   2.35e-09      3.509      0.000    3.64e-09    1.29e-08\n",
       "==============================================================================\n",
       "Omnibus:                       96.302   Durbin-Watson:                   0.466\n",
       "Prob(Omnibus):                  0.000   Jarque-Bera (JB):              122.640\n",
       "Skew:                          -0.550   Prob(JB):                     2.34e-27\n",
       "Kurtosis:                       3.759   Cond. No.                     5.41e+08\n",
       "==============================================================================\n",
       "\n",
       "Warnings:\n",
       "[1] Standard Errors assume that the covariance matrix of the errors is correctly specified.\n",
       "[2] The condition number is large, 5.41e+08. This might indicate that there are\n",
       "strong multicollinearity or other numerical problems.\n",
       "\"\"\""
      ]
     },
     "execution_count": 22,
     "metadata": {},
     "output_type": "execute_result"
    }
   ],
   "source": [
    "lr_model = ols(formula='life_expectancy~alcohol+hepatitisB+bmi+diphtheria+gdp+thinness_till19+polio+population+status', data=df).fit()\n",
    "lr_model.summary()"
   ]
  },
  {
   "cell_type": "code",
   "execution_count": 16,
   "metadata": {},
   "outputs": [
    {
     "data": {
      "text/html": [
       "<table class=\"simpletable\">\n",
       "<caption>OLS Regression Results</caption>\n",
       "<tr>\n",
       "  <th>Dep. Variable:</th>        <td>inf_death</td>    <th>  R-squared:         </th> <td>   0.246</td> \n",
       "</tr>\n",
       "<tr>\n",
       "  <th>Model:</th>                   <td>OLS</td>       <th>  Adj. R-squared:    </th> <td>   0.244</td> \n",
       "</tr>\n",
       "<tr>\n",
       "  <th>Method:</th>             <td>Least Squares</td>  <th>  F-statistic:       </th> <td>   134.1</td> \n",
       "</tr>\n",
       "<tr>\n",
       "  <th>Date:</th>             <td>Tue, 20 Aug 2019</td> <th>  Prob (F-statistic):</th> <td>3.08e-99</td> \n",
       "</tr>\n",
       "<tr>\n",
       "  <th>Time:</th>                 <td>21:05:31</td>     <th>  Log-Likelihood:    </th> <td> -10013.</td> \n",
       "</tr>\n",
       "<tr>\n",
       "  <th>No. Observations:</th>      <td>  1649</td>      <th>  AIC:               </th> <td>2.004e+04</td>\n",
       "</tr>\n",
       "<tr>\n",
       "  <th>Df Residuals:</th>          <td>  1644</td>      <th>  BIC:               </th> <td>2.006e+04</td>\n",
       "</tr>\n",
       "<tr>\n",
       "  <th>Df Model:</th>              <td>     4</td>      <th>                     </th>     <td> </td>    \n",
       "</tr>\n",
       "<tr>\n",
       "  <th>Covariance Type:</th>      <td>nonrobust</td>    <th>                     </th>     <td> </td>    \n",
       "</tr>\n",
       "</table>\n",
       "<table class=\"simpletable\">\n",
       "<tr>\n",
       "         <td></td>            <th>coef</th>     <th>std err</th>      <th>t</th>      <th>P>|t|</th>  <th>[0.025</th>    <th>0.975]</th>  \n",
       "</tr>\n",
       "<tr>\n",
       "  <th>Intercept</th>       <td>   35.7657</td> <td>   12.511</td> <td>    2.859</td> <td> 0.004</td> <td>   11.226</td> <td>   60.305</td>\n",
       "</tr>\n",
       "<tr>\n",
       "  <th>hepatitisB</th>      <td>   -0.9053</td> <td>    0.127</td> <td>   -7.141</td> <td> 0.000</td> <td>   -1.154</td> <td>   -0.657</td>\n",
       "</tr>\n",
       "<tr>\n",
       "  <th>diphtheria</th>      <td>    0.2787</td> <td>    0.169</td> <td>    1.651</td> <td> 0.099</td> <td>   -0.052</td> <td>    0.610</td>\n",
       "</tr>\n",
       "<tr>\n",
       "  <th>thinness_till19</th> <td>   11.6589</td> <td>    0.574</td> <td>   20.309</td> <td> 0.000</td> <td>   10.533</td> <td>   12.785</td>\n",
       "</tr>\n",
       "<tr>\n",
       "  <th>polio</th>           <td>   -0.1377</td> <td>    0.148</td> <td>   -0.933</td> <td> 0.351</td> <td>   -0.427</td> <td>    0.152</td>\n",
       "</tr>\n",
       "</table>\n",
       "<table class=\"simpletable\">\n",
       "<tr>\n",
       "  <th>Omnibus:</th>       <td>1913.737</td> <th>  Durbin-Watson:     </th>  <td>   0.226</td> \n",
       "</tr>\n",
       "<tr>\n",
       "  <th>Prob(Omnibus):</th>  <td> 0.000</td>  <th>  Jarque-Bera (JB):  </th> <td>202144.118</td>\n",
       "</tr>\n",
       "<tr>\n",
       "  <th>Skew:</th>           <td> 5.900</td>  <th>  Prob(JB):          </th>  <td>    0.00</td> \n",
       "</tr>\n",
       "<tr>\n",
       "  <th>Kurtosis:</th>       <td>55.942</td>  <th>  Cond. No.          </th>  <td>    709.</td> \n",
       "</tr>\n",
       "</table><br/><br/>Warnings:<br/>[1] Standard Errors assume that the covariance matrix of the errors is correctly specified."
      ],
      "text/plain": [
       "<class 'statsmodels.iolib.summary.Summary'>\n",
       "\"\"\"\n",
       "                            OLS Regression Results                            \n",
       "==============================================================================\n",
       "Dep. Variable:              inf_death   R-squared:                       0.246\n",
       "Model:                            OLS   Adj. R-squared:                  0.244\n",
       "Method:                 Least Squares   F-statistic:                     134.1\n",
       "Date:                Tue, 20 Aug 2019   Prob (F-statistic):           3.08e-99\n",
       "Time:                        21:05:31   Log-Likelihood:                -10013.\n",
       "No. Observations:                1649   AIC:                         2.004e+04\n",
       "Df Residuals:                    1644   BIC:                         2.006e+04\n",
       "Df Model:                           4                                         \n",
       "Covariance Type:            nonrobust                                         \n",
       "===================================================================================\n",
       "                      coef    std err          t      P>|t|      [0.025      0.975]\n",
       "-----------------------------------------------------------------------------------\n",
       "Intercept          35.7657     12.511      2.859      0.004      11.226      60.305\n",
       "hepatitisB         -0.9053      0.127     -7.141      0.000      -1.154      -0.657\n",
       "diphtheria          0.2787      0.169      1.651      0.099      -0.052       0.610\n",
       "thinness_till19    11.6589      0.574     20.309      0.000      10.533      12.785\n",
       "polio              -0.1377      0.148     -0.933      0.351      -0.427       0.152\n",
       "==============================================================================\n",
       "Omnibus:                     1913.737   Durbin-Watson:                   0.226\n",
       "Prob(Omnibus):                  0.000   Jarque-Bera (JB):           202144.118\n",
       "Skew:                           5.900   Prob(JB):                         0.00\n",
       "Kurtosis:                      55.942   Cond. No.                         709.\n",
       "==============================================================================\n",
       "\n",
       "Warnings:\n",
       "[1] Standard Errors assume that the covariance matrix of the errors is correctly specified.\n",
       "\"\"\""
      ]
     },
     "execution_count": 16,
     "metadata": {},
     "output_type": "execute_result"
    }
   ],
   "source": [
    "lr_model = ols(formula='inf_death~+hepatitisB+diphtheria+thinness_till19+polio', data=df).fit()\n",
    "lr_model.summary()\n",
    "#removed polio - no effect on the model, removed measles didn't look like it had a significant effect"
   ]
  },
  {
   "cell_type": "code",
   "execution_count": null,
   "metadata": {},
   "outputs": [],
   "source": []
  },
  {
   "cell_type": "code",
   "execution_count": null,
   "metadata": {},
   "outputs": [],
   "source": []
  }
 ],
 "metadata": {
  "kernelspec": {
   "display_name": "Python 3",
   "language": "python",
   "name": "python3"
  },
  "language_info": {
   "codemirror_mode": {
    "name": "ipython",
    "version": 3
   },
   "file_extension": ".py",
   "mimetype": "text/x-python",
   "name": "python",
   "nbconvert_exporter": "python",
   "pygments_lexer": "ipython3",
   "version": "3.7.2"
  }
 },
 "nbformat": 4,
 "nbformat_minor": 2
}
